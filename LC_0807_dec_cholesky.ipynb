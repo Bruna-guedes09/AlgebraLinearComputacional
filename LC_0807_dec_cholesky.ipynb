{
 "cells": [
  {
   "cell_type": "markdown",
   "id": "7bcba9ba-b339-4ae7-b7c7-7fb6e0a64774",
   "metadata": {},
   "source": [
    "Decomposição de Cholesky"
   ]
  },
  {
   "cell_type": "code",
   "execution_count": 5,
   "id": "1001e0d9-53ff-4d71-b016-b3d8c87d86c0",
   "metadata": {},
   "outputs": [
    {
     "name": "stdin",
     "output_type": "stream",
     "text": [
      "Ordem da matriz:  4\n",
      "A[1][1]:  16\n",
      "A[1][2]:  -4\n",
      "A[1][3]:  12\n",
      "A[1][4]:  -4\n",
      "A[2][1]:  -4\n",
      "A[2][2]:  2\n",
      "A[2][3]:  -1\n",
      "A[2][4]:  1\n",
      "A[3][1]:  12\n",
      "A[3][2]:  -1\n",
      "A[3][3]:  14\n",
      "A[3][4]:  -2\n",
      "A[4][1]:  -4\n",
      "A[4][2]:  1\n",
      "A[4][3]:  -2\n",
      "A[4][4]:  83\n"
     ]
    },
    {
     "name": "stdout",
     "output_type": "stream",
     "text": [
      "\n",
      "Matriz G:\n",
      "[4.0, 0.0, 0.0, 0.0]\n",
      "[-1.0, 1.0, 0.0, 0.0]\n",
      "[3.0, 2.0, 1.0, 0.0]\n",
      "[-1.0, 0.0, 1.0, 9.0]\n",
      "\n",
      "Matriz Gt:\n",
      "[4.0, -1.0, 3.0, -1.0]\n",
      "[0.0, 1.0, 2.0, 0.0]\n",
      "[0.0, 0.0, 1.0, 1.0]\n",
      "[0.0, 0.0, 0.0, 9.0]\n"
     ]
    }
   ],
   "source": [
    "from math import sqrt\n",
    "\n",
    "# Solicita ao usuário a ordem da matriz (n x n)\n",
    "n = int(input(\"Ordem da matriz: \"))\n",
    "\n",
    "# Inicializa a matriz A com índice 0 ignorado\n",
    "A = [[]]\n",
    "for i in range(1, n+1):\n",
    "    linha = [0.0]  # Linha começa com índice 0 ignorado\n",
    "    for j in range(1, n+1):\n",
    "        valor = float(input(f\"A[{i}][{j}]: \"))  # Solicita cada elemento da matriz A\n",
    "        linha.append(valor)\n",
    "    A.append(linha)  # Adiciona a linha completa à matriz A\n",
    "\n",
    "# Inicializa as matrizes G e Gt com zeros (dimensão (n+1)x(n+1) para ignorar índice 0)\n",
    "G = [[0.0] * (n+1) for _ in range(n+1)]\n",
    "Gt = [[0.0] * (n+1) for _ in range(n+1)]\n",
    "\n",
    "# Define a diagonal principal de G\n",
    "for k in range(1, n+1):\n",
    "    s1 = 0\n",
    "    for j in range (1, k):\n",
    "        s1 = s1 + (G[k][j])**2\n",
    "        \n",
    "    r = A[k][k] - s1\n",
    "    if r < 0:\n",
    "        print(\"Erro: matriz não é positiva definida\")\n",
    "        exit()\n",
    "\n",
    "    G[k][k] = sqrt(r)\n",
    "    \n",
    "    # Define elementos abaixo da diagonal\n",
    "    for i in range (k+1, n+1):\n",
    "        s2 = 0\n",
    "        for j in range(1, k):\n",
    "            s2 = s2 + (G[i][j]*G[k][j])\n",
    "        \n",
    "        G[i][k] = (A[i][k] - s2)/G[k][k]\n",
    "\n",
    "#transpondo G\n",
    "for i in range (1, n+1):\n",
    "    for j in range (1, n+1):\n",
    "        Gt[i][j] = G[j][i]\n",
    "\n",
    "print(\"\\nMatriz G:\")\n",
    "for i in range(1, n+1):\n",
    "    print([G[i][j] for j in range(1, n+1)])\n",
    "    \n",
    "print(\"\\nMatriz Gt:\")\n",
    "for i in range(1, n+1):\n",
    "    print([Gt[i][j] for j in range(1, n+1)])"
   ]
  },
  {
   "cell_type": "code",
   "execution_count": null,
   "id": "0655b07d-7ca9-4f51-ae8a-6e88bf485557",
   "metadata": {},
   "outputs": [],
   "source": []
  }
 ],
 "metadata": {
  "kernelspec": {
   "display_name": "Python 3 (ipykernel)",
   "language": "python",
   "name": "python3"
  },
  "language_info": {
   "codemirror_mode": {
    "name": "ipython",
    "version": 3
   },
   "file_extension": ".py",
   "mimetype": "text/x-python",
   "name": "python",
   "nbconvert_exporter": "python",
   "pygments_lexer": "ipython3",
   "version": "3.12.7"
  }
 },
 "nbformat": 4,
 "nbformat_minor": 5
}
