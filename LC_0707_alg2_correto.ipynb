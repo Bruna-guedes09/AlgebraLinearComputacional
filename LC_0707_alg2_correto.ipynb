{
 "cells": [
  {
   "cell_type": "code",
   "execution_count": 3,
   "id": "2b06e09c-eab5-401f-b533-56968ff457fd",
   "metadata": {},
   "outputs": [
    {
     "name": "stdin",
     "output_type": "stream",
     "text": [
      "Ordem da matriz: 3\n",
      "Linha 1: coeficiente 1 da matriz 3\n",
      "Linha 1: coeficiente 2 da matriz 2\n",
      "Linha 1: coeficiente 3 da matriz 4\n",
      "Linha 2: coeficiente 1 da matriz 1\n",
      "Linha 2: coeficiente 2 da matriz 1\n",
      "Linha 2: coeficiente 3 da matriz 2\n",
      "Linha 3: coeficiente 1 da matriz 4\n",
      "Linha 3: coeficiente 2 da matriz 3\n",
      "Linha 3: coeficiente 3 da matriz 2\n",
      "Linha 1: coeficiente do vetor b 1\n",
      "Linha 2: coeficiente do vetor b 2\n",
      "Linha 3: coeficiente do vetor b 3\n"
     ]
    },
    {
     "name": "stdout",
     "output_type": "stream",
     "text": [
      "\n",
      "Solução:\n",
      "x[1] = -3.0\n",
      "x[2] = 5.0\n",
      "x[3] = 0.0\n"
     ]
    }
   ],
   "source": [
    "#inicialização\n",
    "a = [[0.0]]  # índice 0 será ignorado\n",
    "b = [0.0]    # índice 0 será ignorado\n",
    "x = [0.0]    # índice 0 será ignorado\n",
    "\n",
    "#input\n",
    "n = int(input(\"Ordem da matriz:\"))\n",
    "\n",
    "for o in range(1, n+1):\n",
    "    linha_m = [0.0]  # Inicializa uma lista com o índice 0 ignorado para cada linha\n",
    "    for p in range(1, n+1):\n",
    "        linha_m.append(float(input(f\"Linha {o}: coeficiente {p} da matriz\")))\n",
    "    a.append(linha_m) # Adiciona a linha completa à matriz\n",
    "\n",
    "for q in range(1, n+1):\n",
    "    b.append(float(input(f\"Linha {q}: coeficiente do vetor b\")))\n",
    "\n",
    "x += [0.0] * n #adicionamos n zeros, que depois armazenarão a resposta\n",
    "\n",
    "\n",
    "#Algoritmo principal\n",
    "for k in range(1, n):\n",
    "    \n",
    "    #pivoteamento parcial\n",
    "    pivo = abs(a[k][k]) #módulo para garantir que funciona para mais números\n",
    "    indice_pivo = k\n",
    "\n",
    "    for i in range (k+1, n+1): #mudar se necessário\n",
    "        if abs(a[i][k]) > pivo:\n",
    "            pivo = abs(a[i][k])\n",
    "            indice_pivo = i\n",
    "            \n",
    "        if pivo == 0:\n",
    "            print (\"A matriz é singular.\")\n",
    "            exit()\n",
    "            \n",
    "        if indice_pivo != k:\n",
    "            #Troca linhas da matriz A\n",
    "\n",
    "            for j in range (1, n + 1): #mudar se necessário\n",
    "                troca = a[k][j]\n",
    "                a[k][j] = a[indice_pivo][j]\n",
    "                a[indice_pivo][j] = troca\n",
    "\n",
    "            # Troca no vetor b\n",
    "            troca = b[k]\n",
    "            b[k] = b[indice_pivo]\n",
    "            b[indice_pivo] = troca\n",
    "            \n",
    "    #eliminação gaussiana\n",
    "    for i in range (k+1, n+1): #mudar se necessário\n",
    "        m = a[i][k]/a[k][k]\n",
    "        b[i] = b[i] - m * b[k]\n",
    "        a[i][k] = 0\n",
    "\n",
    "        for j in range (k+1, n+1): #mudar se necessário\n",
    "            a[i][j] = a[i][j] - m * a[k][j]\n",
    "\n",
    "    x[n] = b[n] / a[n][n]\n",
    "    \n",
    "    for kk in range (n-1, 0, -1): #mudar se necesário\n",
    "        s = 0\n",
    "        for j in range (kk+1, n+1): #mudar se necessário\n",
    "            s = s + a[kk][j] * x[j]\n",
    "        x[kk] = (b[kk] - s)/a[kk][kk] \n",
    "\n",
    "# Saída\n",
    "print(\"\\nSolução:\")\n",
    "for i in range(1, n + 1):\n",
    "    print(f\"x[{i}] = {x[i]}\")"
   ]
  },
  {
   "cell_type": "code",
   "execution_count": null,
   "id": "4ec20b98-6549-4d78-b669-639343868b29",
   "metadata": {},
   "outputs": [],
   "source": []
  }
 ],
 "metadata": {
  "kernelspec": {
   "display_name": "ilumpy",
   "language": "python",
   "name": "ilumpy"
  },
  "language_info": {
   "codemirror_mode": {
    "name": "ipython",
    "version": 3
   },
   "file_extension": ".py",
   "mimetype": "text/x-python",
   "name": "python",
   "nbconvert_exporter": "python",
   "pygments_lexer": "ipython3",
   "version": "3.12.7"
  }
 },
 "nbformat": 4,
 "nbformat_minor": 5
}
