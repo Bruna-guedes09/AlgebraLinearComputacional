{
 "cells": [
  {
   "cell_type": "code",
   "execution_count": 1,
   "id": "efd7ab3e-0368-46c2-9e3f-3057111e1cb7",
   "metadata": {},
   "outputs": [
    {
     "name": "stdin",
     "output_type": "stream",
     "text": [
      "Ordem da matriz:  3\n",
      "A[1][1]:  3\n",
      "A[1][2]:  2\n",
      "A[1][3]:  4\n",
      "A[2][1]:  1\n",
      "A[2][2]:  1\n",
      "A[2][3]:  2\n",
      "A[3][1]:  4\n",
      "A[3][2]:  3\n",
      "A[3][3]:  2\n",
      "b[1]:  1\n",
      "b[2]:  2\n",
      "b[3]:  3\n"
     ]
    },
    {
     "name": "stdout",
     "output_type": "stream",
     "text": [
      "\n",
      "Matriz L:\n",
      "[1.0, 0.0, 0.0]\n",
      "[0.3333, 1.0, 0.0]\n",
      "[1.3333, 1.0, 1.0]\n",
      "\n",
      "Matriz U:\n",
      "[3.0, 2.0, 4.0]\n",
      "[0.0, 0.3333, 0.6667]\n",
      "[0.0, 0.0, -4.0]\n",
      "\n",
      "Solução x:\n",
      "x[1] = -3.0\n",
      "x[2] = 5.0\n",
      "x[3] = 0.0\n"
     ]
    }
   ],
   "source": [
    "# Solicita ao usuário a ordem da matriz (n x n)\n",
    "n = int(input(\"Ordem da matriz: \"))\n",
    "\n",
    "# Inicializa a matriz A com índice 0 ignorado\n",
    "A = [[]]\n",
    "for i in range(1, n+1):\n",
    "    linha = [0.0]  # Linha começa com índice 0 ignorado\n",
    "    for j in range(1, n+1):\n",
    "        valor = float(input(f\"A[{i}][{j}]: \"))  # Solicita cada elemento da matriz A\n",
    "        linha.append(valor)\n",
    "    A.append(linha)  # Adiciona a linha completa à matriz A\n",
    "\n",
    "# Inicializa o vetor b (também ignorando o índice 0)\n",
    "b = [0.0]\n",
    "for i in range(1, n+1):\n",
    "    valor = float(input(f\"b[{i}]: \"))  # Solicita os elementos do vetor b\n",
    "    b.append(valor)\n",
    "\n",
    "# Inicializa as matrizes L e U com zeros (dimensão (n+1)x(n+1) para ignorar índice 0)\n",
    "L = [[0.0] * (n+1) for _ in range(n+1)]\n",
    "U = [[0.0] * (n+1) for _ in range(n+1)]\n",
    "\n",
    "# Copia os valores de A para U (U inicialmente é igual a A)\n",
    "for i in range(1, n+1):\n",
    "    for j in range(1, n+1):\n",
    "        U[i][j] = A[i][j]\n",
    "\n",
    "# Define a diagonal principal de L como 1 (matriz identidade inferior)\n",
    "for i in range(1, n+1):\n",
    "    L[i][i] = 1.0\n",
    "\n",
    "# Fase de Decomposição LU (Eliminação Gaussiana)\n",
    "for k in range(1, n):  # Para cada coluna k da matriz\n",
    "    for i in range(k+1, n+1):  # Para cada linha abaixo da linha pivô\n",
    "        m = U[i][k] / U[k][k]  # Calcula o multiplicador (m_ik)\n",
    "        L[i][k] = m  # Armazena o multiplicador na matriz L\n",
    "        for j in range(k, n+1):  # Atualiza os elementos da linha i em U\n",
    "            U[i][j] -= m * U[k][j]\n",
    "\n",
    "# Agora temos LU = A. Vamos resolver o sistema Ly = b por substituição para frente\n",
    "\n",
    "# Inicializa vetor y\n",
    "y = [0.0] * (n+1)\n",
    "for i in range(1, n+1):\n",
    "    s = 0  # Soma dos termos anteriores já resolvidos\n",
    "    for j in range(1, i):\n",
    "        s += L[i][j] * y[j]  # Acumula os produtos L[i][j] * y[j]\n",
    "    y[i] = b[i] - s  # Calcula y[i]\n",
    "\n",
    "# Agora resolvemos Ux = y por substituição para trás\n",
    "\n",
    "# Inicializa vetor solução x\n",
    "x = [0.0] * (n+1)\n",
    "for i in range(n, 0, -1):  # Começa da última equação\n",
    "    s = 0  # Soma dos termos conhecidos\n",
    "    for j in range(i+1, n+1):\n",
    "        s += U[i][j] * x[j]  # Acumula os produtos U[i][j] * x[j]\n",
    "    x[i] = (y[i] - s) / U[i][i]  # Calcula x[i]\n",
    "\n",
    "# Impressão da matriz L formatada\n",
    "print(\"\\nMatriz L:\")\n",
    "for i in range(1, n+1):\n",
    "    print([round(L[i][j], 4) for j in range(1, n+1)])\n",
    "\n",
    "# Impressão da matriz U formatada\n",
    "print(\"\\nMatriz U:\")\n",
    "for i in range(1, n+1):\n",
    "    print([round(U[i][j], 4) for j in range(1, n+1)])\n",
    "\n",
    "# Impressão da solução final x\n",
    "print(\"\\nSolução x:\")\n",
    "for i in range(1, n+1):\n",
    "    print(f\"x[{i}] = {round(x[i], 4)}\")\n"
   ]
  },
  {
   "cell_type": "code",
   "execution_count": 2,
   "id": "a12a8422-5904-426e-97c7-1828dee5bde3",
   "metadata": {},
   "outputs": [
    {
     "name": "stdin",
     "output_type": "stream",
     "text": [
      "Ordem da matriz:  3\n",
      "A[1][1]:  3\n",
      "A[1][2]:  2\n",
      "A[1][3]:  4\n",
      "A[2][1]:  1\n",
      "A[2][2]:  1\n",
      "A[2][3]:  2\n",
      "A[3][1]:  4\n",
      "A[3][2]:  3\n",
      "A[3][3]:  2\n"
     ]
    },
    {
     "name": "stdout",
     "output_type": "stream",
     "text": [
      "\n",
      "Matriz L:\n",
      "[1.0, 0.0, 0.0]\n",
      "[0.3333, 1.0, 0.0]\n",
      "[1.3333, 1.0, 1.0]\n",
      "\n",
      "Matriz U:\n",
      "[3.0, 2.0, 4.0]\n",
      "[0.0, 0.3333, 0.6667]\n",
      "[0.0, 0.0, -4.0]\n"
     ]
    },
    {
     "name": "stdin",
     "output_type": "stream",
     "text": [
      "\n",
      "Deseja resolver para um vetor b diferente? (s/n):  s\n",
      "b[1]:  1\n",
      "b[2]:  2\n",
      "b[3]:  3\n"
     ]
    },
    {
     "name": "stdout",
     "output_type": "stream",
     "text": [
      "\n",
      "Solução x:\n",
      "x[1] = -3.0\n",
      "x[2] = 5.0\n",
      "x[3] = 0.0\n"
     ]
    },
    {
     "name": "stdin",
     "output_type": "stream",
     "text": [
      "\n",
      "Deseja resolver para um vetor b diferente? (s/n):  s\n",
      "b[1]:  5\n",
      "b[2]:  4\n",
      "b[3]:  3\n"
     ]
    },
    {
     "name": "stdout",
     "output_type": "stream",
     "text": [
      "\n",
      "Solução x:\n",
      "x[1] = -3.0\n",
      "x[2] = 4.0\n",
      "x[3] = 1.5\n"
     ]
    },
    {
     "name": "stdin",
     "output_type": "stream",
     "text": [
      "\n",
      "Deseja resolver para um vetor b diferente? (s/n):  n\n"
     ]
    },
    {
     "name": "stdout",
     "output_type": "stream",
     "text": [
      "Encerrando.\n"
     ]
    }
   ],
   "source": [
    "# Solicita ao usuário a ordem da matriz (n x n)\n",
    "n = int(input(\"Ordem da matriz: \"))\n",
    "\n",
    "# Inicializa a matriz A com índice 0 ignorado\n",
    "A = [[]]\n",
    "for i in range(1, n+1):\n",
    "    linha = [0.0]  # Linha começa com índice 0 ignorado\n",
    "    for j in range(1, n+1):\n",
    "        valor = float(input(f\"A[{i}][{j}]: \"))  # Solicita cada elemento da matriz A\n",
    "        linha.append(valor)\n",
    "    A.append(linha)  # Adiciona a linha completa à matriz A\n",
    "\n",
    "# Inicializa as matrizes L e U com zeros (dimensão (n+1)x(n+1) para ignorar índice 0)\n",
    "L = [[0.0] * (n+1) for _ in range(n+1)]\n",
    "U = [[0.0] * (n+1) for _ in range(n+1)]\n",
    "\n",
    "# Copia os valores de A para U (U inicialmente é igual a A)\n",
    "for i in range(1, n+1):\n",
    "    for j in range(1, n+1):\n",
    "        U[i][j] = A[i][j]\n",
    "\n",
    "# Define a diagonal principal de L como 1 (matriz identidade inferior)\n",
    "for i in range(1, n+1):\n",
    "    L[i][i] = 1.0\n",
    "\n",
    "# Fase de Decomposição LU (Eliminação Gaussiana)\n",
    "for k in range(1, n):  # Para cada coluna k da matriz\n",
    "    for i in range(k+1, n+1):  # Para cada linha abaixo da linha pivô\n",
    "        m = U[i][k] / U[k][k]  # Calcula o multiplicador (m_ik)\n",
    "        L[i][k] = m  # Armazena o multiplicador na matriz L\n",
    "        for j in range(k, n+1):  # Atualiza os elementos da linha i em U\n",
    "            U[i][j] -= m * U[k][j]\n",
    "\n",
    "# Agora decomposição LU está pronta\n",
    "print(\"\\nMatriz L:\")\n",
    "for i in range(1, n+1):\n",
    "    print([round(L[i][j], 4) for j in range(1, n+1)])\n",
    "\n",
    "print(\"\\nMatriz U:\")\n",
    "for i in range(1, n+1):\n",
    "    print([round(U[i][j], 4) for j in range(1, n+1)])\n",
    "\n",
    "# Agora podemos resolver vários sistemas com diferentes vetores b\n",
    "while True:\n",
    "    # Pergunta se o usuário quer inserir um novo vetor b\n",
    "    resposta = input(\"\\nDeseja resolver para um vetor b diferente? (s/n): \").strip().lower()\n",
    "    if resposta != 's':\n",
    "        print(\"Encerrando.\")\n",
    "        break\n",
    "\n",
    "    # Entrada do vetor b\n",
    "    b = [0.0]\n",
    "    for i in range(1, n+1):\n",
    "        valor = float(input(f\"b[{i}]: \"))\n",
    "        b.append(valor)\n",
    "\n",
    "    # Resolver Ly = b (substituição para frente)\n",
    "    y = [0.0] * (n+1)\n",
    "    for i in range(1, n+1):\n",
    "        s = 0\n",
    "        for j in range(1, i):\n",
    "            s += L[i][j] * y[j]\n",
    "        y[i] = b[i] - s\n",
    "\n",
    "    # Resolver Ux = y (substituição para trás)\n",
    "    x = [0.0] * (n+1)\n",
    "    for i in range(n, 0, -1):\n",
    "        s = 0\n",
    "        for j in range(i+1, n+1):\n",
    "            s += U[i][j] * x[j]\n",
    "        x[i] = (y[i] - s) / U[i][i]\n",
    "\n",
    "    # Imprime a solução para o vetor b atual\n",
    "    print(\"\\nSolução x:\")\n",
    "    for i in range(1, n+1):\n",
    "        print(f\"x[{i}] = {round(x[i], 4)}\")"
   ]
  },
  {
   "cell_type": "code",
   "execution_count": null,
   "id": "9e967d9b-e486-4d32-9a7d-71196dcedba5",
   "metadata": {},
   "outputs": [],
   "source": []
  }
 ],
 "metadata": {
  "kernelspec": {
   "display_name": "ilumpy",
   "language": "python",
   "name": "ilumpy"
  },
  "language_info": {
   "codemirror_mode": {
    "name": "ipython",
    "version": 3
   },
   "file_extension": ".py",
   "mimetype": "text/x-python",
   "name": "python",
   "nbconvert_exporter": "python",
   "pygments_lexer": "ipython3",
   "version": "3.12.7"
  }
 },
 "nbformat": 4,
 "nbformat_minor": 5
}
